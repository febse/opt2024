{
 "cells": [
  {
   "cell_type": "markdown",
   "id": "f5054f9ab6df9935",
   "metadata": {
    "collapsed": false
   },
   "source": [
    "# Въведение\n",
    "\n",
    "## Игра на бурито\n",
    "\n",
    "[https://www.gurobi.com/burrito-optimization-game/](https://www.gurobi.com/burrito-optimization-game/)\n",
    "\n",
    "\n",
    "## Берлинският въздушен мост\n",
    "\n",
    "След края на Втората световна война Германия е разделена на четири окупационни\n",
    "зони: Американска, Британска, Френска и Съветска. Берлин също така е разделен на\n",
    "четири зони, но достъпът до него по суша и по вода минава изцяло през територията на Съветската окупационна зона.\n",
    "\n",
    "\n",
    "![Окупационни зони в Германия след Втората световна война. Източник: Wikipedia.](https://upload.wikimedia.org/wikipedia/commons/thumb/a/a8/Deutschland_Besatzungszonen_8_Jun_1947_-_22_Apr_1949.svg/800px-Deutschland_Besatzungszonen_8_Jun_1947_-_22_Apr_1949.svg.png)\n",
    "\n",
    "На 24-ти юни 1948 Съветският Съюз\n",
    "[блокира](https://en.wikipedia.org/wiki/Berlin_Blockade) достъпа до Западен\n",
    "Берлин, с което започва една от най-значимите конфронтации по време на \n",
    "Студената война. Без достъп по суша или вода, западните съюзници започват да \n",
    "снабдяват града по въздух (Берлински въздушен мост).\n",
    "\n",
    "![Разтоварване на сол (река Хавел). Източник: Wikipedia.](https://upload.wikimedia.org/wikipedia/commons/1/10/Sunderland_201_Sqn_on_Havel_during_Berlin_Airlift_1948.jpg)\n",
    "\n",
    "![Приземяване на C-54 (Летище Темпелхоф). Източник: Wikipedia.](https://upload.wikimedia.org/wikipedia/commons/d/d8/C-54landingattemplehof.jpg)\n",
    "\n",
    "## Описание на проблема\n",
    "\n",
    "За по-просто нека да приемем, че доставките до Берлин се извършват с \n",
    "два вида самолети: американски, които могат да поемат до 30 000 кубични фута товар ($\\approx 849 m^3$),\n",
    "и британски самолети с капацитет до 20 000 кубични фута ($\\approx 566 m^3$).\n",
    "\n",
    "Поради ограничения в инфраструктурата на ден могат да летят най-много 48 самолета\n",
    "(независимо от кой вид).\n",
    "\n",
    "За всеки полет на американски самолет има нужда от \n",
    "16 души персонал, двойно повече от броя нужен за британските самолети. \n",
    "Общо на разположение са 512 души на ден.\n",
    "\n",
    "\n",
    "Разходите за гориво и поддръжка на самолетите възлизат на 9000 долара за полет\n",
    "на американски самолет и на 5000 долара за полет на британски самолет.\n",
    "Поради бюджетни ограничения общите разходи не могат да надхвърлят 300 000\n",
    "долара.\n",
    "\n",
    "Колко британски и колко американски самолети да използва на ден въздушният мост,\n",
    "така че да достави до Берлин възможно най-голямо количество стоки?\n",
    "\n",
    "\n",
    "## Математически модел\n",
    "\n",
    "- Избор на променливи\n",
    "\n",
    ":::{.callout .info .collapsed=\"true\"}\n",
    "$$\n",
    "\\begin{align}\n",
    "x_1: \\text{ брой американски самолети}\\\\\n",
    "x_2: \\text{ брой британски самолети}\n",
    "\\end{align}\n",
    "$$\n",
    ":::\n",
    "\n",
    "$$\n",
    "\\begin{align*}\n",
    "\\max z(x_1, x_2) = 3 x_1 + 2 x_2 \\text{ (общ товар, целева функция, objective)} \\\\\n",
    " x_1 + x_2 \\leq 48 \\text{ (инфраструктура)} \\\\\n",
    "  16 x_1 + 8 x_2 \\leq 512 \\text{ (персонал)} \\\\\n",
    "  9 x_1 + 5 x_2 \\leq 300 \\text{ (бюджет)} \\\\\n",
    "  x_1  \\geq 0 \\text{ (брой американски самолети)} \\\\\n",
    "  x_2 \\geq 0 \\text{ (брой британски самолети)}\n",
    "\\end{align*}\n",
    "$$\n",
    "\n",
    "\n",
    "Преди да решим задачата, нека да я решим неформално в опростен вариант, като игнорираме второто и третото ограничение:\n",
    "\n",
    "\n",
    "$$\n",
    "\\begin{align*}\n",
    "\\max 3 x_1 + 2 x_2 \\\\\n",
    "x_1 + x_2 \\leq 48 \\\\\n",
    "x_1 \\geq 0 \\\\\n",
    "x_2 \\geq 0\n",
    "\\end{align*}\n",
    "$$\n",
    "\n",
    "Решение: \n",
    "\n",
    "$$\n",
    "(x^*_1 = 48, x^*_2 = 0)\n",
    "$$\n",
    "\n",
    "## Допустимо множество\n",
    "\n",
    "За да решим задачата (и с трите ограничения) първо ще представим допустимото множество графично, като за целта ще начертаем правите към всяко от петте ограничения (включително ограниченията за неотрицателност). За да можем да начертаем правите са ни нужни по две точки от всяка права. Най-лесно можем да намерим пресечните им точки с двете оси ($x_1$ и $x_2$).\n",
    "\n",
    "За всички точки на оста $x_2$ е изпълнено, че $x_1 = 0$. Когато заместим с $x_1 = 0$  в уравнението на всяка от правите ще намерим пресечните им точки с оста $x_2$. За всички точки от оста $x_1$ важи, че $x_2 = 0$, така че когато заместим с $x_2 = 0$ в уравненията на правите ще получим пресечните им точки с оста $x_1$.\n",
    "\n",
    "\n",
    "Права на първото ограничение (инфраструктура):\n",
    "\n",
    "$$\n",
    "x_1 + x_2 = 48\n",
    "$$\n",
    "За да намерим пресечните точки на правата (инфраструктура) с двете оси:\n",
    "\n",
    "- При $x_1 = 0$ на колко е равно $x_2$? $0 + x_2 = 48$\n",
    "- При $x_2 = 0$ на колко е равно $x_1$? $x_1 + 0 = 48$\n",
    "\n",
    "За да намерим пресечните точки на втората права (персонал) с двете оси:\n",
    "\n",
    "$$\n",
    "16 x_1 + 8 x_2 = 512\n",
    "$$\n",
    "\n",
    "- При $x_1 = 0$ на колко е равно $x_2$? $16 \\cdot 0 + 8x_2 = 512 \\implies x_2 = 512 / 8 = 64$\n",
    "- При $x_2 = 0$ на колко е равно $x_1$? $16 x_1 +8 \\cdot 0 = 512 \\implies x_1 = 512 / 16 = 32$\n",
    "\n",
    "\n",
    "По същия начин можем да намерим и две точки от правата на третото ограничение (бюджет): \n",
    "(0, 300 / 5) и (300 / 9, 0)."
   ]
  },
  {
   "cell_type": "code",
   "execution_count": 1,
   "id": "initial_id",
   "metadata": {
    "ExecuteTime": {
     "end_time": "2024-01-22T21:22:16.553405813Z",
     "start_time": "2024-01-22T21:22:16.236304076Z"
    },
    "collapsed": true
   },
   "outputs": [
    {
     "name": "stderr",
     "output_type": "stream",
     "text": [
      "`polytope` failed to import `cvxopt.glpk`.\n",
      "will use `scipy.optimize.linprog`\n"
     ]
    },
    {
     "data": {
      "text/plain": [
       "array([[32., -0.],\n",
       "       [20., 24.],\n",
       "       [15., 33.],\n",
       "       [-0., 48.],\n",
       "       [-0., -0.]])"
      ]
     },
     "execution_count": 1,
     "metadata": {},
     "output_type": "execute_result"
    }
   ],
   "source": [
    "import polytope as pc\n",
    "import numpy as np\n",
    "\n",
    "A = np.array([[1, 1], [16, 8], [9, 5], [-1, 0], [0, -1]])\n",
    "b = np.array([48, 512, 300, 0, 0])\n",
    "\n",
    "P = pc.Polytope(A, b)\n",
    "P_extr = pc.extreme(P)\n",
    "\n",
    "P_extr"
   ]
  },
  {
   "cell_type": "markdown",
   "id": "646a53d197e48342",
   "metadata": {
    "collapsed": false
   },
   "source": [
    "Допустимото множество се състои от всички точки в полигона (0, 0), (32, 0), (20, 24), (15, 33), (0, 48). Изчислението на пресечните точки (20, 24) и (15, 33)."
   ]
  },
  {
   "cell_type": "code",
   "execution_count": 2,
   "id": "32ea0aef43589b4e",
   "metadata": {
    "collapsed": false
   },
   "outputs": [
    {
     "data": {
      "image/png": "[encoded data removed]",
      "text/plain": [
       "<Figure size 640x480 with 1 Axes>"
      ]
     },
     "metadata": {},
     "output_type": "display_data"
    }
   ],
   "source": [
    "from matplotlib import pyplot as plt\n",
    "\n",
    "plt.plot(P_extr[:, 0], P_extr[:, 1], '-o')\n",
    "\n",
    "for i, p in enumerate(P_extr):\n",
    "    plt.text(p[0], p[1], f\"({p[0]:0.1f}, {p[1]:0.1f})\")\n"
   ]
  },
  {
   "cell_type": "code",
   "execution_count": 3,
   "id": "dcf3824008f58b10",
   "metadata": {
    "collapsed": false
   },
   "outputs": [
    {
     "name": "stdout",
     "output_type": "stream",
     "text": [
      "z(0, 0) =  0\n",
      "z(32, 0) =  96\n",
      "z(20, 24) =  108\n",
      "z(15, 33) =  111\n",
      "z(0, 48) =  96\n"
     ]
    }
   ],
   "source": [
    "def z(x1, x2):\n",
    "    return 3 * x1 + 2 * x2\n",
    "\n",
    "# (0, 0)\n",
    "print(\"z(0, 0) = \", z(0, 0))\n",
    "\n",
    "# (32, 0)\n",
    "print(\"z(32, 0) = \", z(32, 0))\n",
    "\n",
    "# (20, 24)\n",
    "print(\"z(20, 24) = \", z(20, 24))\n",
    "\n",
    "# (15, 33)\n",
    "print(\"z(15, 33) = \", z(15, 33))\n",
    "\n",
    "# (0, 48)\n",
    "print(\"z(0, 48) = \", z(0, 48))"
   ]
  },
  {
   "cell_type": "markdown",
   "id": "28e2818713b5a0f",
   "metadata": {
    "collapsed": false
   },
   "source": [
    "Оптималната комбинация от американски и британски самолети е \n",
    "$(x^*_1 = 15, x^*_2 = 33)$. Това е възможно най-големият товар, който могат да пренесат самолетите при дадените ограничения. \n",
    "Този товар е равен на $30000 $x^*_{1} + 20000 x^*_{2} = 30000 \\cdot 15 + 20000 \\cdot 33 = 1 110 000$ кубични фута, използвайки 15 американски и 33 британски самолета.\n",
    "\n",
    "## Проблем с настоящия подход\n",
    "\n",
    "В момента решихме задачата, като изчислихме върховете на допустимото множество и пресметнахме целевата функция във всеки от тях. Решението на максимизационната задача беше върхът с най-висока стойност на целевата функция.\n",
    "\n",
    "За съжаление този подход е приложим само за много малки задачи и няма практическа стойност. Причината за това е, че броят на върховете на допустимото множество нараства много бързо с увеличаване на броя на ограниченията и променливите. Горна граница за броя на върховете на допустимото множество е дадена от биномния коефициент:\n",
    "\n",
    " $$\n",
    " \\binom{n}{k} = \\frac{n!}{k!(n-k)!}\n",
    " $$\n",
    "\n",
    " където $n$ е броят на променливите, а $k$ е броят на ограниченията. Можем да пресметнем горната граница за броя на върховете на допустимото за различни комбинации на $n$ и $k$:"
   ]
  },
  {
   "cell_type": "code",
   "execution_count": 4,
   "id": "b219328f77a8df6f",
   "metadata": {
    "collapsed": false
   },
   "outputs": [
    {
     "name": "stdout",
     "output_type": "stream",
     "text": [
      "n = 2, k = 2, Максимален брой върхове =  1.0\n",
      "n = 2, k = 3, Максимален брой върхове =  3.0\n",
      "n = 20, k = 15, Максимален брой върхове =  15504.0\n",
      "n = 40, k = 25, Максимален брой върхове =  40225345056.0\n",
      "n = 50, k = 25, Максимален брой върхове =  126410606437752.05\n"
     ]
    }
   ],
   "source": [
    "from scipy.special import comb\n",
    "\n",
    "print(\"n = 2, k = 2, Максимален брой върхове = \", comb(2, 2))\n",
    "print(\"n = 2, k = 3, Максимален брой върхове = \", comb(3, 2))\n",
    "print(\"n = 20, k = 15, Максимален брой върхове = \", comb(20, 15))\n",
    "print(\"n = 40, k = 25, Максимален брой върхове = \", comb(40, 25))\n",
    "print(\"n = 50, k = 25, Максимален брой върхове = \", comb(50, 25))"
   ]
  },
  {
   "cell_type": "markdown",
   "id": "57abe7ba9230f529",
   "metadata": {
    "collapsed": false
   },
   "source": [
    "Изчисляването на целевата функция за всички върхове е непостижимо дори за модерни компютри. Ако приемем, че компютърът може да обработи 1 милиард върха на секунда, за 80 променливи и 40 ограничения ще му трябва много време:"
   ]
  },
  {
   "cell_type": "code",
   "execution_count": 5,
   "id": "2712991ebc5be91a",
   "metadata": {
    "collapsed": false
   },
   "outputs": [
    {
     "name": "stdout",
     "output_type": "stream",
     "text": [
      "1836016.6 години\n"
     ]
    }
   ],
   "source": [
    "comb_n = comb(80, 45)\n",
    "print(round(comb_n / (1e9 * 60 * 60 * 24 * 365), 1), \"години\")"
   ]
  },
  {
   "cell_type": "markdown",
   "id": "aeb42068",
   "metadata": {},
   "source": [
    "## Решение на модела в Excel\n",
    "\n",
    "[Решение на модела в Excel](https://github.com/febse/data/raw/main/opt/Berlin-Air-Example.xlsx)"
   ]
  },
  {
   "cell_type": "markdown",
   "id": "219e0a29c9a858",
   "metadata": {
    "collapsed": false
   },
   "source": [
    "## Решение на модела с gurobipy\n"
   ]
  },
  {
   "cell_type": "code",
   "execution_count": null,
   "id": "f1e1f795ca3d09b1",
   "metadata": {
    "collapsed": false
   },
   "outputs": [],
   "source": [
    "import gurobipy as gp\n",
    "from gurobipy import GRB\n",
    "\n",
    "# Съставяне на нов модел\n",
    "\n",
    "m = gp.Model(\"Berlin Airlift\")\n",
    "\n",
    "x1 = m.addVar(vtype=GRB.INTEGER, lb = 0, name=\"American\")\n",
    "x2 = m.addVar(vtype=GRB.INTEGER, lb = 0, name=\"British\")\n",
    "\n",
    "# Целева функция\n",
    "\n",
    "m.setObjective(3 * x1 + 2 * x2, GRB.MAXIMIZE)\n",
    "\n",
    "# Добавяне на ограниченията\n",
    "\n",
    "m.addConstr(x1 + x2 <= 48, \"Infrastructure\")\n",
    "m.addConstr(16 * x1 + 8 * x2 <= 512, \"Staff\")\n",
    "m.addConstr(9 * x1 + 5 * x2 <= 300, \"Budget\")\n",
    "\n",
    "# Неотрицателността на променливите е автоматично дефинирана в m.addVar\n",
    "\n",
    "# Решаване на модела\n",
    "m.optimize()\n",
    "\n",
    "# Отпечатване на резултата\n",
    "for v in m.getVars():\n",
    "    print(f\"{v.varName}: {v.x}\")\n"
   ]
  }
 ],
 "metadata": {
  "kernelspec": {
   "display_name": "Python 3",
   "language": "python",
   "name": "python3"
  },
  "language_info": {
   "codemirror_mode": {
    "name": "ipython",
    "version": 3
   },
   "file_extension": ".py",
   "mimetype": "text/x-python",
   "name": "python",
   "nbconvert_exporter": "python",
   "pygments_lexer": "ipython3",
   "version": "3.11.7"
  }
 },
 "nbformat": 4,
 "nbformat_minor": 5
}
